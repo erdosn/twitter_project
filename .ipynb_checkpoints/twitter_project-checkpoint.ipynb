{
 "cells": [
  {
   "cell_type": "code",
   "execution_count": 43,
   "metadata": {},
   "outputs": [
    {
     "data": {
      "text/plain": [
       "<module 'info' from '/Users/rcarrasco/notes/projects/twitter_project/info.py'>"
      ]
     },
     "execution_count": 43,
     "metadata": {},
     "output_type": "execute_result"
    }
   ],
   "source": [
    "import json\n",
    "import requests\n",
    "import info\n",
    "import pprint\n",
    "import tweepy\n",
    "\n",
    "import pandas as pd\n",
    "import numpy as np\n",
    "\n",
    "from importlib import reload\n",
    "from textblob import TextBlob\n",
    "\n",
    "import matplotlib.pyplot as plt\n",
    "\n",
    "reload(info)"
   ]
  },
  {
   "cell_type": "code",
   "execution_count": 27,
   "metadata": {},
   "outputs": [],
   "source": [
    "with open(info.get_path()) as f:\n",
    "    d = json.load(f)\n",
    "    consumer_key = d[\"consumer_key\"]\n",
    "    consumer_secret = d[\"consumer_secret\"]\n",
    "    access_token = d[\"access_token\"]\n",
    "    access_token_secret = d['access_secret']\n",
    "    d=None"
   ]
  },
  {
   "cell_type": "code",
   "execution_count": 159,
   "metadata": {},
   "outputs": [],
   "source": [
    "auth = tweepy.OAuthHandler(consumer_key, consumer_secret)\n",
    "auth.set_access_token(access_token, access_token_secret)\n",
    "api = tweepy.API(auth, retry_delay=2, retry_count=10)"
   ]
  },
  {
   "cell_type": "code",
   "execution_count": 170,
   "metadata": {},
   "outputs": [],
   "source": [
    "user = api.me()\n",
    "data = []\n",
    "text_set = set()\n",
    "query = \"rick and morty\""
   ]
  },
  {
   "cell_type": "code",
   "execution_count": null,
   "metadata": {},
   "outputs": [],
   "source": [
    "searched_tweets = [status for status in tweepy.Cursor(api.search, q=query).items(1000)]"
   ]
  },
  {
   "cell_type": "code",
   "execution_count": 171,
   "metadata": {},
   "outputs": [],
   "source": [
    "for tweet in searched_tweets:    \n",
    "    d=dict()\n",
    "    text = tweet.text\n",
    "    if text not in text_set:\n",
    "        d[\"text\"] = tweet.text\n",
    "        d[\"date_created\"] = tweet.created_at\n",
    "        d[\"user\"] = tweet.user.name\n",
    "        blob = TextBlob(d[\"text\"])\n",
    "        d[\"polarity\"] = blob.sentiment.polarity\n",
    "        d[\"subjectivity\"] = blob.sentiment.subjectivity\n",
    "        data.append(d)\n",
    "        text_set.add(text)"
   ]
  },
  {
   "cell_type": "code",
   "execution_count": 172,
   "metadata": {},
   "outputs": [],
   "source": [
    "df = pd.DataFrame(data)"
   ]
  },
  {
   "cell_type": "code",
   "execution_count": 173,
   "metadata": {},
   "outputs": [
    {
     "data": {
      "text/plain": [
       "(499, 5)"
      ]
     },
     "execution_count": 173,
     "metadata": {},
     "output_type": "execute_result"
    }
   ],
   "source": [
    "df.shape"
   ]
  },
  {
   "cell_type": "code",
   "execution_count": 174,
   "metadata": {},
   "outputs": [
    {
     "data": {
      "text/html": [
       "<div>\n",
       "<style scoped>\n",
       "    .dataframe tbody tr th:only-of-type {\n",
       "        vertical-align: middle;\n",
       "    }\n",
       "\n",
       "    .dataframe tbody tr th {\n",
       "        vertical-align: top;\n",
       "    }\n",
       "\n",
       "    .dataframe thead th {\n",
       "        text-align: right;\n",
       "    }\n",
       "</style>\n",
       "<table border=\"1\" class=\"dataframe\">\n",
       "  <thead>\n",
       "    <tr style=\"text-align: right;\">\n",
       "      <th></th>\n",
       "      <th>date_created</th>\n",
       "      <th>polarity</th>\n",
       "      <th>subjectivity</th>\n",
       "      <th>text</th>\n",
       "      <th>user</th>\n",
       "    </tr>\n",
       "  </thead>\n",
       "  <tbody>\n",
       "    <tr>\n",
       "      <th>0</th>\n",
       "      <td>2018-11-04 22:11:02</td>\n",
       "      <td>0.0</td>\n",
       "      <td>0.333333</td>\n",
       "      <td>RT @chuuzus: we really went a whole year witho...</td>\n",
       "      <td>Narnia Business 🇱🇨🇧🇧</td>\n",
       "    </tr>\n",
       "    <tr>\n",
       "      <th>1</th>\n",
       "      <td>2018-11-04 22:10:44</td>\n",
       "      <td>0.0</td>\n",
       "      <td>0.000000</td>\n",
       "      <td>RT @3abdosafwat: إجتماع لمحبي Rick and Morty ل...</td>\n",
       "      <td>mooma</td>\n",
       "    </tr>\n",
       "    <tr>\n",
       "      <th>2</th>\n",
       "      <td>2018-11-04 22:10:07</td>\n",
       "      <td>0.0</td>\n",
       "      <td>0.000000</td>\n",
       "      <td>@Dysmo Hulu. Rick and Morty all the way dawg</td>\n",
       "      <td>Cole es bonito e simpático</td>\n",
       "    </tr>\n",
       "    <tr>\n",
       "      <th>3</th>\n",
       "      <td>2018-11-04 22:09:00</td>\n",
       "      <td>0.0</td>\n",
       "      <td>0.000000</td>\n",
       "      <td>I Made Myself @McJuggerNuggets Rick And Morty ...</td>\n",
       "      <td>JermaineTheLoudHouseBoy</td>\n",
       "    </tr>\n",
       "    <tr>\n",
       "      <th>4</th>\n",
       "      <td>2018-11-04 22:08:35</td>\n",
       "      <td>0.0</td>\n",
       "      <td>0.000000</td>\n",
       "      <td>RT @Fallout: Wubba lubba dub dub! Watch @adult...</td>\n",
       "      <td>𝖒𝖔𝖎𝖘𝖙</td>\n",
       "    </tr>\n",
       "  </tbody>\n",
       "</table>\n",
       "</div>"
      ],
      "text/plain": [
       "         date_created  polarity  subjectivity  \\\n",
       "0 2018-11-04 22:11:02       0.0      0.333333   \n",
       "1 2018-11-04 22:10:44       0.0      0.000000   \n",
       "2 2018-11-04 22:10:07       0.0      0.000000   \n",
       "3 2018-11-04 22:09:00       0.0      0.000000   \n",
       "4 2018-11-04 22:08:35       0.0      0.000000   \n",
       "\n",
       "                                                text  \\\n",
       "0  RT @chuuzus: we really went a whole year witho...   \n",
       "1  RT @3abdosafwat: إجتماع لمحبي Rick and Morty ل...   \n",
       "2       @Dysmo Hulu. Rick and Morty all the way dawg   \n",
       "3  I Made Myself @McJuggerNuggets Rick And Morty ...   \n",
       "4  RT @Fallout: Wubba lubba dub dub! Watch @adult...   \n",
       "\n",
       "                         user  \n",
       "0        Narnia Business 🇱🇨🇧🇧  \n",
       "1                       mooma  \n",
       "2  Cole es bonito e simpático  \n",
       "3     JermaineTheLoudHouseBoy  \n",
       "4                       𝖒𝖔𝖎𝖘𝖙  "
      ]
     },
     "execution_count": 174,
     "metadata": {},
     "output_type": "execute_result"
    }
   ],
   "source": [
    "df.head()"
   ]
  },
  {
   "cell_type": "code",
   "execution_count": null,
   "metadata": {},
   "outputs": [],
   "source": []
  }
 ],
 "metadata": {
  "kernelspec": {
   "display_name": "Python 3",
   "language": "python",
   "name": "python3"
  },
  "language_info": {
   "codemirror_mode": {
    "name": "ipython",
    "version": 3
   },
   "file_extension": ".py",
   "mimetype": "text/x-python",
   "name": "python",
   "nbconvert_exporter": "python",
   "pygments_lexer": "ipython3",
   "version": "3.6.5"
  }
 },
 "nbformat": 4,
 "nbformat_minor": 2
}
