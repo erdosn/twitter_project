{
 "cells": [
  {
   "cell_type": "code",
   "execution_count": 25,
   "metadata": {},
   "outputs": [],
   "source": [
    "import json\n",
    "import requests\n",
    "import pprint\n",
    "import tweepy\n",
    "import info\n",
    "\n",
    "import pandas as pd\n",
    "import numpy as np\n",
    "\n",
    "from importlib import reload\n",
    "from textblob import TextBlob\n",
    "from vaderSentiment.vaderSentiment import SentimentIntensityAnalyzer\n",
    "\n",
    "import matplotlib.pyplot as plt"
   ]
  },
  {
   "cell_type": "code",
   "execution_count": 17,
   "metadata": {},
   "outputs": [],
   "source": [
    "with open(info.get_path()) as f:\n",
    "    d = json.load(f)\n",
    "    consumer_key = d[\"consumer_key\"]\n",
    "    consumer_secret = d[\"consumer_secret\"]\n",
    "    access_token = d[\"access_token\"]\n",
    "    access_token_secret = d['access_secret']"
   ]
  },
  {
   "cell_type": "code",
   "execution_count": 30,
   "metadata": {},
   "outputs": [],
   "source": [
    "auth = tweepy.OAuthHandler(consumer_key, consumer_secret)\n",
    "auth.set_access_token(access_token, access_token_secret)\n",
    "api = tweepy.API(auth, wait_on_rate_limit=True)"
   ]
  },
  {
   "cell_type": "code",
   "execution_count": 31,
   "metadata": {},
   "outputs": [],
   "source": [
    "user = api.me()\n",
    "query = \"rick and morty\""
   ]
  },
  {
   "cell_type": "code",
   "execution_count": 118,
   "metadata": {},
   "outputs": [],
   "source": [
    "data = [] # set your data list\n",
    "text_set = set() # set your text list"
   ]
  },
  {
   "cell_type": "code",
   "execution_count": 32,
   "metadata": {},
   "outputs": [],
   "source": [
    "searched_tweets = [status for status in tweepy.Cursor(api.search, q=query).items(5000)]"
   ]
  },
  {
   "cell_type": "code",
   "execution_count": 35,
   "metadata": {},
   "outputs": [],
   "source": [
    "analyzer = SentimentIntensityAnalyzer()"
   ]
  },
  {
   "cell_type": "code",
   "execution_count": 119,
   "metadata": {},
   "outputs": [],
   "source": [
    "for tweet in searched_tweets:    \n",
    "    d=dict()\n",
    "    text = tweet.text\n",
    "    if text not in text_set:\n",
    "        d[\"text\"] = tweet.text # get tweet text\n",
    "        d[\"date_created\"] = tweet.created_at # get the date it was created\n",
    "        # d[\"user\"] = tweet.user.name # get user name\n",
    "        blob = TextBlob(d[\"text\"]) # create textblob object\n",
    "        d[\"textblob_polarity\"] = blob.sentiment.polarity # get polarity (positive/negative)\n",
    "        d[\"textblob_subjectivity\"] = blob.sentiment.subjectivity # get opinion/fact\n",
    "        vader_dict = analyzer.polarity_scores(tweet.text)\n",
    "        d.update(vader_dict)\n",
    "        data.append(d)\n",
    "        text_set.add(text)"
   ]
  },
  {
   "cell_type": "code",
   "execution_count": 120,
   "metadata": {},
   "outputs": [],
   "source": [
    "df = pd.DataFrame(data)"
   ]
  },
  {
   "cell_type": "code",
   "execution_count": 121,
   "metadata": {},
   "outputs": [
    {
     "data": {
      "text/plain": [
       "(1628, 8)"
      ]
     },
     "execution_count": 121,
     "metadata": {},
     "output_type": "execute_result"
    }
   ],
   "source": [
    "df.shape"
   ]
  },
  {
   "cell_type": "code",
   "execution_count": 126,
   "metadata": {},
   "outputs": [],
   "source": [
    "df[\"v_agrees_t\"] = [1 if v*t > 0 else 0 for v, t in zip(df[\"compound\"], df.textblob_polarity)]"
   ]
  },
  {
   "cell_type": "code",
   "execution_count": 127,
   "metadata": {},
   "outputs": [
    {
     "data": {
      "text/html": [
       "<div>\n",
       "<style scoped>\n",
       "    .dataframe tbody tr th:only-of-type {\n",
       "        vertical-align: middle;\n",
       "    }\n",
       "\n",
       "    .dataframe tbody tr th {\n",
       "        vertical-align: top;\n",
       "    }\n",
       "\n",
       "    .dataframe thead th {\n",
       "        text-align: right;\n",
       "    }\n",
       "</style>\n",
       "<table border=\"1\" class=\"dataframe\">\n",
       "  <thead>\n",
       "    <tr style=\"text-align: right;\">\n",
       "      <th></th>\n",
       "      <th>compound</th>\n",
       "      <th>date_created</th>\n",
       "      <th>neg</th>\n",
       "      <th>neu</th>\n",
       "      <th>pos</th>\n",
       "      <th>text</th>\n",
       "      <th>textblob_polarity</th>\n",
       "      <th>textblob_subjectivity</th>\n",
       "      <th>v_agrees_t</th>\n",
       "    </tr>\n",
       "  </thead>\n",
       "  <tbody>\n",
       "    <tr>\n",
       "      <th>0</th>\n",
       "      <td>0.0000</td>\n",
       "      <td>2018-11-06 21:37:56</td>\n",
       "      <td>0.0</td>\n",
       "      <td>1.000</td>\n",
       "      <td>0.000</td>\n",
       "      <td>RT @jovianjake: How is it possible that so man...</td>\n",
       "      <td>0.125</td>\n",
       "      <td>0.641667</td>\n",
       "      <td>0</td>\n",
       "    </tr>\n",
       "    <tr>\n",
       "      <th>1</th>\n",
       "      <td>0.6369</td>\n",
       "      <td>2018-11-06 21:36:58</td>\n",
       "      <td>0.0</td>\n",
       "      <td>0.704</td>\n",
       "      <td>0.296</td>\n",
       "      <td>I voted for #TeamRickAndMorty on @TheTylt—I lo...</td>\n",
       "      <td>0.500</td>\n",
       "      <td>0.600000</td>\n",
       "      <td>1</td>\n",
       "    </tr>\n",
       "    <tr>\n",
       "      <th>2</th>\n",
       "      <td>0.0000</td>\n",
       "      <td>2018-11-06 21:34:39</td>\n",
       "      <td>0.0</td>\n",
       "      <td>1.000</td>\n",
       "      <td>0.000</td>\n",
       "      <td>Today is a day for blunts and rick and morty e...</td>\n",
       "      <td>0.000</td>\n",
       "      <td>0.000000</td>\n",
       "      <td>0</td>\n",
       "    </tr>\n",
       "    <tr>\n",
       "      <th>3</th>\n",
       "      <td>0.0000</td>\n",
       "      <td>2018-11-06 21:34:19</td>\n",
       "      <td>0.0</td>\n",
       "      <td>1.000</td>\n",
       "      <td>0.000</td>\n",
       "      <td>Estas a ver Rick and morty ? https://t.co/7ahT...</td>\n",
       "      <td>0.000</td>\n",
       "      <td>0.000000</td>\n",
       "      <td>0</td>\n",
       "    </tr>\n",
       "    <tr>\n",
       "      <th>4</th>\n",
       "      <td>0.0000</td>\n",
       "      <td>2018-11-06 21:33:47</td>\n",
       "      <td>0.0</td>\n",
       "      <td>1.000</td>\n",
       "      <td>0.000</td>\n",
       "      <td>Rick and Morty: The Rickshank Rickdemption Dec...</td>\n",
       "      <td>-0.400</td>\n",
       "      <td>0.400000</td>\n",
       "      <td>0</td>\n",
       "    </tr>\n",
       "  </tbody>\n",
       "</table>\n",
       "</div>"
      ],
      "text/plain": [
       "   compound        date_created  neg    neu    pos  \\\n",
       "0    0.0000 2018-11-06 21:37:56  0.0  1.000  0.000   \n",
       "1    0.6369 2018-11-06 21:36:58  0.0  0.704  0.296   \n",
       "2    0.0000 2018-11-06 21:34:39  0.0  1.000  0.000   \n",
       "3    0.0000 2018-11-06 21:34:19  0.0  1.000  0.000   \n",
       "4    0.0000 2018-11-06 21:33:47  0.0  1.000  0.000   \n",
       "\n",
       "                                                text  textblob_polarity  \\\n",
       "0  RT @jovianjake: How is it possible that so man...              0.125   \n",
       "1  I voted for #TeamRickAndMorty on @TheTylt—I lo...              0.500   \n",
       "2  Today is a day for blunts and rick and morty e...              0.000   \n",
       "3  Estas a ver Rick and morty ? https://t.co/7ahT...              0.000   \n",
       "4  Rick and Morty: The Rickshank Rickdemption Dec...             -0.400   \n",
       "\n",
       "   textblob_subjectivity  v_agrees_t  \n",
       "0               0.641667           0  \n",
       "1               0.600000           1  \n",
       "2               0.000000           0  \n",
       "3               0.000000           0  \n",
       "4               0.400000           0  "
      ]
     },
     "execution_count": 127,
     "metadata": {},
     "output_type": "execute_result"
    }
   ],
   "source": [
    "df.head()"
   ]
  }
 ],
 "metadata": {
  "kernelspec": {
   "display_name": "Python 3",
   "language": "python",
   "name": "python3"
  },
  "language_info": {
   "codemirror_mode": {
    "name": "ipython",
    "version": 3
   },
   "file_extension": ".py",
   "mimetype": "text/x-python",
   "name": "python",
   "nbconvert_exporter": "python",
   "pygments_lexer": "ipython3",
   "version": "3.6.5"
  }
 },
 "nbformat": 4,
 "nbformat_minor": 2
}
